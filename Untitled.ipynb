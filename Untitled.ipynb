{
 "cells": [
  {
   "cell_type": "code",
   "execution_count": 1,
   "id": "42521773-3977-4409-b17f-1cf558322e58",
   "metadata": {},
   "outputs": [],
   "source": [
    "from main_parser import main"
   ]
  },
  {
   "cell_type": "code",
   "execution_count": 3,
   "id": "c11d97bb-c6cc-4811-94f7-40ff2e90cb1e",
   "metadata": {},
   "outputs": [
    {
     "name": "stdout",
     "output_type": "stream",
     "text": [
      "\n",
      "            INSERT INTO currency_rate (currency_pair_id, exchange_rate, date)\n",
      "            VALUES (2, 13.63, '2024-10-16 17:45:09.897381')\n",
      "\n",
      "            INSERT INTO currency_rate (currency_pair_id, exchange_rate, date)\n",
      "            VALUES (1, 97.02, '2024-10-16 17:45:09.902241')\n",
      "\n",
      "            INSERT INTO currency_rate (currency_pair_id, exchange_rate, date)\n",
      "            VALUES (3, 105.53, '2024-10-16 17:45:09.908849')\n"
     ]
    }
   ],
   "source": [
    "main()"
   ]
  },
  {
   "cell_type": "code",
   "execution_count": 4,
   "id": "22a3017a-5574-493c-a076-ea65a317cf29",
   "metadata": {},
   "outputs": [],
   "source": [
    "from sqlalchemy import create_engine"
   ]
  },
  {
   "cell_type": "code",
   "execution_count": null,
   "id": "87d70062",
   "metadata": {},
   "outputs": [],
   "source": [
    "self.engine = create_engine()"
   ]
  }
 ],
 "metadata": {
  "kernelspec": {
   "display_name": "trade_env",
   "language": "python",
   "name": "python3"
  },
  "language_info": {
   "codemirror_mode": {
    "name": "ipython",
    "version": 3
   },
   "file_extension": ".py",
   "mimetype": "text/x-python",
   "name": "python",
   "nbconvert_exporter": "python",
   "pygments_lexer": "ipython3",
   "version": "3.11.8"
  }
 },
 "nbformat": 4,
 "nbformat_minor": 5
}
