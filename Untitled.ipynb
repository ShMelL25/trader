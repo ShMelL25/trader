{
 "cells": [
  {
   "cell_type": "code",
   "execution_count": 1,
   "id": "42521773-3977-4409-b17f-1cf558322e58",
   "metadata": {},
   "outputs": [],
   "source": [
    "from main_parser import main"
   ]
  },
  {
   "cell_type": "code",
   "execution_count": 2,
   "id": "c11d97bb-c6cc-4811-94f7-40ff2e90cb1e",
   "metadata": {},
   "outputs": [
    {
     "name": "stdout",
     "output_type": "stream",
     "text": [
      "92.84\n"
     ]
    }
   ],
   "source": [
    "main(first_currency='USD', second_currency='RUB')"
   ]
  },
  {
   "cell_type": "code",
   "execution_count": null,
   "id": "22a3017a-5574-493c-a076-ea65a317cf29",
   "metadata": {},
   "outputs": [],
   "source": []
  }
 ],
 "metadata": {
  "kernelspec": {
   "display_name": "Python 3 (ipykernel)",
   "language": "python",
   "name": "python3"
  },
  "language_info": {
   "codemirror_mode": {
    "name": "ipython",
    "version": 3
   },
   "file_extension": ".py",
   "mimetype": "text/x-python",
   "name": "python",
   "nbconvert_exporter": "python",
   "pygments_lexer": "ipython3",
   "version": "3.11.8"
  }
 },
 "nbformat": 4,
 "nbformat_minor": 5
}
